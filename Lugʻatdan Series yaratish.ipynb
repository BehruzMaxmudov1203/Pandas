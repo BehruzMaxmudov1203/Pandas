{
 "cells": [
  {
   "cell_type": "code",
   "execution_count": 9,
   "id": "ebee8024",
   "metadata": {},
   "outputs": [],
   "source": [
    "import pandas as pd\n",
    "import numpy as np\n",
    "from pandas import Series"
   ]
  },
  {
   "cell_type": "code",
   "execution_count": 4,
   "id": "06507a93",
   "metadata": {},
   "outputs": [],
   "source": [
    "cars_dict = {'Malibu':40000, 'Lacetti':20000, 'Toyota':45000, 'Mazda':52000, 'Honda':38000}"
   ]
  },
  {
   "cell_type": "code",
   "execution_count": 5,
   "id": "9b57be61",
   "metadata": {},
   "outputs": [
    {
     "data": {
      "text/plain": [
       "dict"
      ]
     },
     "execution_count": 5,
     "metadata": {},
     "output_type": "execute_result"
    }
   ],
   "source": [
    "type(cars_dict)"
   ]
  },
  {
   "cell_type": "code",
   "execution_count": 6,
   "id": "e8595cee",
   "metadata": {},
   "outputs": [],
   "source": [
    "cars1 = pd.Series(cars_dict)"
   ]
  },
  {
   "cell_type": "code",
   "execution_count": 11,
   "id": "aa76e26a",
   "metadata": {},
   "outputs": [
    {
     "data": {
      "text/plain": [
       "Malibu     40000\n",
       "Lacetti    20000\n",
       "Toyota     45000\n",
       "Mazda      52000\n",
       "Honda      38000\n",
       "dtype: int64"
      ]
     },
     "execution_count": 11,
     "metadata": {},
     "output_type": "execute_result"
    }
   ],
   "source": [
    "cars1"
   ]
  },
  {
   "cell_type": "code",
   "execution_count": 7,
   "id": "7f1ff589",
   "metadata": {},
   "outputs": [
    {
     "data": {
      "text/plain": [
       "pandas.core.series.Series"
      ]
     },
     "execution_count": 7,
     "metadata": {},
     "output_type": "execute_result"
    }
   ],
   "source": [
    "type(cars1)"
   ]
  },
  {
   "cell_type": "code",
   "execution_count": 11,
   "id": "421d47fa",
   "metadata": {},
   "outputs": [],
   "source": [
    "cars1 = Series({'Malibu':40000, 'Lacetti':20000, 'Toyota':45000, 'Mazda':52000, 'Honda':38000})"
   ]
  },
  {
   "cell_type": "code",
   "execution_count": 12,
   "id": "de95bb05",
   "metadata": {},
   "outputs": [
    {
     "data": {
      "text/plain": [
       "Malibu     40000\n",
       "Lacetti    20000\n",
       "Toyota     45000\n",
       "Mazda      52000\n",
       "Honda      38000\n",
       "dtype: int64"
      ]
     },
     "execution_count": 12,
     "metadata": {},
     "output_type": "execute_result"
    }
   ],
   "source": [
    "cars1"
   ]
  },
  {
   "cell_type": "code",
   "execution_count": 13,
   "id": "d9d874ae",
   "metadata": {},
   "outputs": [
    {
     "data": {
      "text/plain": [
       "True"
      ]
     },
     "execution_count": 13,
     "metadata": {},
     "output_type": "execute_result"
    }
   ],
   "source": [
    "'Malibu' in cars1"
   ]
  },
  {
   "cell_type": "code",
   "execution_count": 14,
   "id": "08950d29",
   "metadata": {},
   "outputs": [
    {
     "data": {
      "text/plain": [
       "False"
      ]
     },
     "execution_count": 14,
     "metadata": {},
     "output_type": "execute_result"
    }
   ],
   "source": [
    "'BMW' in cars1"
   ]
  },
  {
   "cell_type": "code",
   "execution_count": 17,
   "id": "3f046aa4",
   "metadata": {},
   "outputs": [
    {
     "data": {
      "text/plain": [
       "np.int64(45000)"
      ]
     },
     "execution_count": 17,
     "metadata": {},
     "output_type": "execute_result"
    }
   ],
   "source": [
    "cars1['Toyota']"
   ]
  },
  {
   "cell_type": "code",
   "execution_count": 20,
   "id": "0f66a7d3",
   "metadata": {},
   "outputs": [
    {
     "data": {
      "text/plain": [
       "{'Malibu': 40000,\n",
       " 'Lacetti': 20000,\n",
       " 'Toyota': 45000,\n",
       " 'Mazda': 52000,\n",
       " 'Honda': 38000}"
      ]
     },
     "execution_count": 20,
     "metadata": {},
     "output_type": "execute_result"
    }
   ],
   "source": [
    "cars_dict"
   ]
  },
  {
   "cell_type": "code",
   "execution_count": 18,
   "id": "1f2e5278",
   "metadata": {},
   "outputs": [],
   "source": [
    "moodels = ['Malibu', 'Lacetti', 'Toyota', 'BMW', 'Mazda', 'Honda', 'Cobalt']"
   ]
  },
  {
   "cell_type": "code",
   "execution_count": null,
   "id": "ef25c6f7",
   "metadata": {},
   "outputs": [],
   "source": [
    "cars2 = Series(cars_dict,index=moodels) # BMW va Cobalt qiymatlari yo'q, shuning uchun NaN bo'ladi"
   ]
  },
  {
   "cell_type": "code",
   "execution_count": 21,
   "id": "d92d3f71",
   "metadata": {},
   "outputs": [
    {
     "data": {
      "text/plain": [
       "Malibu     40000.0\n",
       "Lacetti    20000.0\n",
       "Toyota     45000.0\n",
       "BMW            NaN\n",
       "Mazda      52000.0\n",
       "Honda      38000.0\n",
       "Cobalt         NaN\n",
       "dtype: float64"
      ]
     },
     "execution_count": 21,
     "metadata": {},
     "output_type": "execute_result"
    }
   ],
   "source": [
    "cars2"
   ]
  },
  {
   "cell_type": "code",
   "execution_count": null,
   "id": "14eeb82e",
   "metadata": {},
   "outputs": [],
   "source": []
  }
 ],
 "metadata": {
  "kernelspec": {
   "display_name": "venv",
   "language": "python",
   "name": "python3"
  },
  "language_info": {
   "codemirror_mode": {
    "name": "ipython",
    "version": 3
   },
   "file_extension": ".py",
   "mimetype": "text/x-python",
   "name": "python",
   "nbconvert_exporter": "python",
   "pygments_lexer": "ipython3",
   "version": "3.12.3"
  }
 },
 "nbformat": 4,
 "nbformat_minor": 5
}
